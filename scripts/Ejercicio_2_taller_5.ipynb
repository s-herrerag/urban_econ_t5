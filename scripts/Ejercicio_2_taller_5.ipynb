{
  "nbformat": 4,
  "nbformat_minor": 0,
  "metadata": {
    "colab": {
      "provenance": []
    },
    "kernelspec": {
      "name": "ir",
      "display_name": "R"
    },
    "language_info": {
      "name": "R"
    }
  },
  "cells": [
    {
      "cell_type": "markdown",
      "source": [
        "##          EJERCICIO 2\n",
        "# “Discrimination in the rental housing market: A field experiment on the Internet” [Ahmed et al. (2008)]\n",
        "\n",
        "---\n",
        "\n",
        "\n"
      ],
      "metadata": {
        "id": "IHLWMGE46yd2"
      }
    },
    {
      "cell_type": "markdown",
      "source": [
        "## **Paquetes**"
      ],
      "metadata": {
        "id": "Mgf-qeCGQmIg"
      }
    },
    {
      "cell_type": "code",
      "execution_count": null,
      "metadata": {
        "colab": {
          "base_uri": "https://localhost:8080/"
        },
        "id": "TLrAz7eA54VE",
        "outputId": "5f04d7f2-6d86-409a-a6f1-4563e8d9782f"
      },
      "outputs": [
        {
          "output_type": "stream",
          "name": "stderr",
          "text": [
            "Installing package into ‘/usr/local/lib/R/site-library’\n",
            "(as ‘lib’ is unspecified)\n",
            "\n",
            "also installing the dependencies ‘Formula’, ‘Rcpp’, ‘RcppEigen’, ‘randomizr’, ‘fabricatr’, ‘estimatr’\n",
            "\n",
            "\n"
          ]
        }
      ],
      "source": [
        "install.packages(\"DeclareDesign\")"
      ]
    },
    {
      "cell_type": "code",
      "source": [
        "require(\"DeclareDesign\")"
      ],
      "metadata": {
        "id": "lvL5xzfT597y"
      },
      "execution_count": null,
      "outputs": []
    },
    {
      "cell_type": "code",
      "source": [
        "require(\"DesignLibrary\")"
      ],
      "metadata": {
        "id": "a2veisYi6HVD"
      },
      "execution_count": null,
      "outputs": []
    },
    {
      "cell_type": "code",
      "source": [
        "install.packages(\"margins\")"
      ],
      "metadata": {
        "id": "jzjcG3NTwY4H"
      },
      "execution_count": null,
      "outputs": []
    },
    {
      "cell_type": "code",
      "source": [
        "require(tidyverse)"
      ],
      "metadata": {
        "id": "eCh0Ur1hoQyL"
      },
      "execution_count": null,
      "outputs": []
    },
    {
      "cell_type": "code",
      "source": [
        "require(\"margins\") # for margins\n",
        "require(broom) # for tidy"
      ],
      "metadata": {
        "id": "VGEiHduTwq64"
      },
      "execution_count": null,
      "outputs": []
    },
    {
      "cell_type": "code",
      "source": [
        "set.seed(1011)"
      ],
      "metadata": {
        "id": "rIPcRbSJf67x"
      },
      "execution_count": null,
      "outputs": []
    },
    {
      "cell_type": "markdown",
      "source": [
        "# **1. Modelo**"
      ],
      "metadata": {
        "id": "9LwDEyga6VyH"
      }
    },
    {
      "cell_type": "code",
      "source": [
        "panels <- fabricate( ##### Genera la población y los efectos fijos\n",
        "  listings = add_level(N = 12639, listing_fe = runif(N, -.2, .2)), ### efecto fijo de individuos\n",
        "  hours = add_level(N = 3, hour_shock = runif(N, -.08, .08), nest = FALSE), ## efecto fijo hora de respuesta (1 a 1.5 hrs)\n",
        "  obs = cross_levels(\n",
        "    by = join_using(listings, hours),\n",
        "    U =rnorm(N, 0, 0.2), #### Variacion aleatoria\n",
        "    epsilon = listing_fe + hour_shock + U\n",
        "  )\n",
        "\n",
        "\n",
        ")\n",
        "\n",
        "panels  %>% arrange(listings)\n"
      ],
      "metadata": {
        "id": "RZx2C-ps6L6D"
      },
      "execution_count": null,
      "outputs": []
    },
    {
      "cell_type": "code",
      "source": [
        "design0 <- declare_model(\n",
        "  panels, ### Poblacion creada\n",
        "  rooms = sample(c(1,2,3,4,5,6,7,8), N, replace = TRUE), ### controles\n",
        "  area = runif(N, min = 30, max = 120),\n",
        "  rent_1000 = runif(N, min = 1, max = 100),\n",
        "  m_area = rbinom(N, size=1, prob=0.448),\n",
        "  company = rbinom(N, size=1, prob=0.096),\n",
        "  female = rbinom(N, size=1, prob=0.364),\n",
        "  immigrant = rbinom(N, size=1, prob=0.078),\n",
        "  potential_outcomes(    ##### Resultados potenciales dejando fijo a Erik\n",
        "    Y ~ rbinom(n = N, size = 1, prob =\n",
        "      pmax(0, pmin(1, 0.126 * (Z == 1) - 0.261 * (Z == 2) +\n",
        "        0.007 * rooms + 0.001 * area + 0.002 * rent_1000 +\n",
        "        0.550 * company - 0.251 * m_area - 0.023 * female +\n",
        "        0.227 * immigrant + epsilon)\n",
        "      )),\n",
        "    conditions = list(Z = c(0, 1, 2))\n",
        "  )\n",
        ") + NULL\n",
        "\n",
        "\n",
        "\n",
        "head(draw_data(design0) %>% arrange(listings),100)"
      ],
      "metadata": {
        "id": "QUyhTU-D7wvm"
      },
      "execution_count": null,
      "outputs": []
    },
    {
      "cell_type": "markdown",
      "source": [
        "# **(A) Inquiry**"
      ],
      "metadata": {
        "id": "m6qvCvXVhFd-"
      }
    },
    {
      "cell_type": "code",
      "source": [
        "design0 <- declare_model(\n",
        "  panels,\n",
        "  rooms = sample(c(1,2,3,4,5,6,7,8), N, replace = TRUE),\n",
        "  area = runif(N, min = 30, max = 120),\n",
        "  rent_1000 = runif(N, min = 1, max = 100),\n",
        "  m_area = rbinom(N, size=1, prob=0.448),\n",
        "  company = rbinom(N, size=1, prob=0.096),\n",
        "  female = rbinom(N, size=1, prob=0.364),\n",
        "  immigrant = rbinom(N, size=1, prob=0.078),\n",
        "  potential_outcomes(\n",
        "    Y ~ rbinom(n = N, size = 1, prob =\n",
        "      pmax(0, pmin(1, 0.126 * (Z == 1) - 0.261 * (Z == 2) +\n",
        "        0.007 * rooms + 0.001 * area + 0.002 * rent_1000 +\n",
        "        0.550 * company - 0.251 * m_area - 0.023 * female +\n",
        "        0.227 * immigrant + epsilon)\n",
        "      )),\n",
        "    conditions = list(Z = c(0, 1, 2))\n",
        "  )\n",
        ")+\n",
        "declare_inquiry( ######### Tres medidas comparando los 3  grupos de interes\n",
        "  ATE1 = mean(Y_Z_1 - Y_Z_0), #### Maria vs ERIK\n",
        "  ATE2 = mean(Y_Z_2 - Y_Z_0), ### Mohamec vs ERIK\n",
        "  ATE3 = mean(Y_Z_2 - Y_Z_1)) #### Mohamec vs Maria"
      ],
      "metadata": {
        "id": "jkXgo2tthQFe"
      },
      "execution_count": null,
      "outputs": []
    },
    {
      "cell_type": "markdown",
      "source": [
        "# **(B) Data strategy**"
      ],
      "metadata": {
        "id": "2sZRtvvfhe0e"
      }
    },
    {
      "cell_type": "code",
      "source": [
        "design0 <- declare_model(\n",
        "  panels,\n",
        "  rooms = sample(c(1,2,3,4,5,6,7,8), N, replace = TRUE),\n",
        "  area = runif(N, min = 30, max = 120),\n",
        "  rent_1000 = runif(N, min = 1, max = 100),\n",
        "  m_area = rbinom(N, size=1, prob=0.448),\n",
        "  company = rbinom(N, size=1, prob=0.096),\n",
        "  female = rbinom(N, size=1, prob=0.364),\n",
        "  immigrant = rbinom(N, size=1, prob=0.078),\n",
        "  potential_outcomes(\n",
        "    Y ~ rbinom(n = N, size = 1, prob =\n",
        "      pmax(0, pmin(1, 0.126 * (Z == 1) - 0.261 * (Z == 2) +\n",
        "        0.007 * rooms + 0.001 * area + 0.002 * rent_1000 +\n",
        "        0.550 * company - 0.251 * m_area - 0.023 * female +\n",
        "        0.227 * immigrant + epsilon)\n",
        "      )),\n",
        "    conditions = list(Z = c(0, 1, 2))\n",
        "  )\n",
        ")+\n",
        "declare_inquiry(\n",
        "  ATE1 = mean(Y_Z_1 - Y_Z_0),\n",
        "  ATE2 = mean(Y_Z_2 - Y_Z_0),\n",
        "  ATE3 = mean(Y_Z_2 - Y_Z_1))+\n",
        " declare_sampling(S = complete_rs(N = N, n = 500)) + #### Muestreo donde los 3 grupo eplican aleatorio\n",
        "declare_assignment(Z = complete_ra(N, prob = 0.333333)) + ## balance de la asignación\n",
        "declare_measurement(Y = reveal_outcomes(Y ~ Z))"
      ],
      "metadata": {
        "id": "bz7Yb0mwhwSH"
      },
      "execution_count": null,
      "outputs": []
    },
    {
      "cell_type": "markdown",
      "source": [
        "# **(C) Answer Strategy**"
      ],
      "metadata": {
        "id": "8XwI7uv2ip2-"
      }
    },
    {
      "cell_type": "code",
      "source": [
        "tidy_margins <- function(x) { ##### Funcion para los resultados marginales modelo probit\n",
        "  tidy(margins(x, data = x$data), conf.int = TRUE)\n",
        "}"
      ],
      "metadata": {
        "id": "C3WwajDV7Rw_"
      },
      "execution_count": null,
      "outputs": []
    },
    {
      "cell_type": "code",
      "source": [
        "### Estimaciones probit (efectos marginales) de la probabilidad de ser invitado a más contactos y de ser invitado a proyecciones\n",
        "\n",
        "design0 <- declare_model(\n",
        "  panels,\n",
        "  rooms = sample(c(1,2,3,4,5,6,7,8), N, replace = TRUE),\n",
        "  area = runif(N, min = 30, max = 120),\n",
        "  rent_1000 = runif(N, min = 1, max = 100),\n",
        "  m_area = rbinom(N, size=1, prob=0.448),\n",
        "  company = rbinom(N, size=1, prob=0.096),\n",
        "  female = rbinom(N, size=1, prob=0.364),\n",
        "  immigrant = rbinom(N, size=1, prob=0.078),\n",
        "  potential_outcomes(\n",
        "    Y ~ rbinom(n = N, size = 1, prob =\n",
        "      pmax(0, pmin(1, 0.126 * (Z == 1) - 0.261 * (Z == 2) +\n",
        "        0.007 * rooms + 0.001 * area + 0.002 * rent_1000 +\n",
        "        0.550 * company - 0.251 * m_area - 0.023 * female +\n",
        "        0.227 * immigrant + epsilon)\n",
        "      )),\n",
        "    conditions = list(Z = c(0, 1, 2))\n",
        "  )\n",
        ")+\n",
        "declare_inquiry(\n",
        "  ATE1 = mean(Y_Z_1 - Y_Z_0),\n",
        "  ATE2 = mean(Y_Z_2 - Y_Z_0),\n",
        "  ATE3 = mean(Y_Z_2 - Y_Z_1))+\n",
        "declare_sampling(S = complete_rs(N = N, n = 500)) +\n",
        "declare_assignment(Z = complete_ra(N, prob = 0.333333)) +\n",
        "declare_measurement(Y = reveal_outcomes(Y ~ Z))+\n",
        "declare_estimator(model = lm, formula = Y ~ Z, term = \"Z\", label = \"OLS\") + ###  Modelo Linea para comparar diferencias de medias\n",
        "declare_estimator(model = glm, formula = Y ~ Z, family = \"binomial\", label = \"Logit\", .summary = tidy_margins) ### Modelo que mide el efecto marginal\n"
      ],
      "metadata": {
        "id": "OsyxGKmILrYC"
      },
      "execution_count": null,
      "outputs": []
    },
    {
      "cell_type": "code",
      "source": [
        "draw_estimates(design0)"
      ],
      "metadata": {
        "id": "q7DJadHs68eJ"
      },
      "execution_count": null,
      "outputs": []
    },
    {
      "cell_type": "markdown",
      "source": [
        "# **Diagnosis**"
      ],
      "metadata": {
        "id": "GOjSpDjmjBEK"
      }
    },
    {
      "cell_type": "code",
      "source": [
        "diagnose_design(design0, sims = 50) ### se verifica sesgo y poder con 50 corridas"
      ],
      "metadata": {
        "id": "8yYMAs86qTsB"
      },
      "execution_count": null,
      "outputs": []
    },
    {
      "cell_type": "markdown",
      "source": [
        "# **heterogeneidad por origen de landlord (immigrante/native)**"
      ],
      "metadata": {
        "id": "_Pw3O4alrOFz"
      }
    },
    {
      "cell_type": "code",
      "source": [
        "### Para  explorar la heterogeneidad se reaiza la interaccion entre migrante Mohame y Maria\n",
        "#### Se toma las probabiidades de estas interacciones especiales reportadas en el paper\n",
        "### No se tiene en cuenta la interaccion entre los otros controles\n",
        "design1 <- declare_model(\n",
        "  panels,\n",
        "  rooms = sample(c(1,2,3,4,5,6,7,8), N, replace = TRUE),\n",
        "  area = runif(N, min = 30, max = 120),\n",
        "  rent_1000 = runif(N, min = 1, max = 100),\n",
        "  m_area = rbinom(N, size=1, prob=0.448),\n",
        "  company = rbinom(N, size=1, prob=0.096),\n",
        "  female = rbinom(N, size=1, prob=0.364),\n",
        "  immigrant = rbinom(N, size=1, prob=0.078),\n",
        "  potential_outcomes(\n",
        "    Y ~ rbinom(n = N, size = 1, prob =\n",
        "      pmax(0, pmin(1, 0.126*(Z==1) - 0.261*(Z==2) +  0.036*(Z==1)*immigrant - 0.076*(Z==2)*immigrant +\n",
        "        0.007*rooms + 0.001*area + 0.002*rent_1000 +  0.550*company - 0.251*m_area + 0.023*female +  0.227*immigrant))),\n",
        "    conditions = list(Z = c(0, 1, 2))\n",
        "  )\n",
        ")+\n",
        "declare_inquiry(\n",
        "  ATE1 = mean(Y_Z_1 - Y_Z_0),\n",
        "  ATE2 = mean(Y_Z_2 - Y_Z_0),\n",
        "  ATE3 = mean(Y_Z_2 - Y_Z_1))+\n",
        "  declare_sampling(S = complete_rs(N = N, n = 500)) +\n",
        "  declare_assignment(Z = complete_ra(N, prob = 0.333333)) +\n",
        "  declare_measurement(Y = reveal_outcomes(Y ~ Z)) +\n",
        "  declare_estimator(model = lm, formula = Y ~ Z + immigrant + Z:immigrant, label = \"OLS\") +\n",
        "  declare_estimator(model = glm, formula = Y ~ Z + immigrant + Z:immigrant, family = \"binomial\", label = \"Logit\", .summary = tidy_margins)"
      ],
      "metadata": {
        "id": "jVOFU2-PrNPn"
      },
      "execution_count": null,
      "outputs": []
    },
    {
      "cell_type": "code",
      "source": [
        "diagnose_design(design1, sims = 50) ### se verifica sesgo y poder con 50 corridas de la nueva configuración"
      ],
      "metadata": {
        "id": "3bZn3PRrsee2"
      },
      "execution_count": null,
      "outputs": []
    },
    {
      "cell_type": "code",
      "source": [
        "draw_estimates(design1)"
      ],
      "metadata": {
        "id": "y5uwfit4t-j7"
      },
      "execution_count": null,
      "outputs": []
    }
  ]
}